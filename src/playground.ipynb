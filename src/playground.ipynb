{
 "cells": [
  {
   "cell_type": "code",
   "execution_count": null,
   "metadata": {},
   "outputs": [],
   "source": [
    "%pip install faker"
   ]
  },
  {
   "cell_type": "code",
   "execution_count": null,
   "metadata": {},
   "outputs": [],
   "source": [
    "%pip install pandas"
   ]
  },
  {
   "cell_type": "code",
   "execution_count": null,
   "metadata": {},
   "outputs": [],
   "source": [
    "import faker\n",
    "fake = faker.Faker()"
   ]
  },
  {
   "cell_type": "code",
   "execution_count": null,
   "metadata": {},
   "outputs": [],
   "source": [
    "user_profile = {\n",
    "    \"user_id\": fake.random_int(min=1, max=999),\n",
    "    \"name\": fake.name(),\n",
    "    \"age\": fake.random_int(min=18, max=75),\n",
    "    \"city\": fake.city(),\n",
    "    \"fav_category\": fake.random_element(elements=(\"Drama\", \"Action\", \"Adventure\", \"Comedy\", \"Sci-Fi\"))\n",
    "}\n",
    "user_profile"
   ]
  },
  {
   "cell_type": "code",
   "execution_count": null,
   "metadata": {},
   "outputs": [],
   "source": [
    "user_profile = {\n",
    "    \"user_id\": fake.random_int(min=1, max=999),\n",
    "    \"name\": fake.name(),\n",
    "    \"age\": fake.random_int(min=18, max=75),\n",
    "    \"fav_category\": fake.random_element(elements=(\"Drama\", \"Action\", \"Adventure\", \"Comedy\", \"Sci-Fi\",\n",
    "        'Kids Accessories',\n",
    "        'Kids Clothing',\n",
    "        'Kids Shoes',\n",
    "        'Men Accessories',\n",
    "        'Men Clothing',\n",
    "        'Men Shoes',\n",
    "        'Running Accessories',\n",
    "        'Running Shoes',\n",
    "        'Soccer Accessories',\n",
    "        'Soccer Shoes',\n",
    "        'Women Accessories',\n",
    "        'Women Clothing',\n",
    "        'Women Shoes',))\n",
    "        }\n",
    "user_profile"
   ]
  },
  {
   "cell_type": "code",
   "execution_count": null,
   "metadata": {},
   "outputs": [],
   "source": [
    "# Download IMDB data\n",
    "data_dir = '../../assets'\n",
    "imdb_dir = data_dir\n",
    "!wget -P $imdb_dir https://d2peeor3oplhc6.cloudfront.net/personalize-immersionday-media/imdb/items.csv"
   ]
  },
  {
   "cell_type": "code",
   "execution_count": null,
   "metadata": {},
   "outputs": [],
   "source": [
    "# read sample data\n",
    "import pandas as pd\n",
    "assets_dir = '../../assets'\n",
    "movie_data = pd.read_csv(assets_dir + '/movie_items.csv', sep=',', dtype={'PROMOTION': \"string\"})\n",
    "retail_data = pd.read_csv(assets_dir + '/adidas_items.csv', sep=',', dtype={'PROMOTION': \"string\"})\n",
    "travel_data = pd.read_csv(assets_dir + '/travel_items.csv', sep=',', dtype={'PROMOTION': \"string\"})\n",
    "# retail_data.head(5)\n",
    "# travel_data.head(5)\n",
    "# return recommended items and return name and description\n",
    "# print only name and description from item_data\n",
    "movie_data.head(5)\n"
   ]
  },
  {
   "cell_type": "code",
   "execution_count": null,
   "metadata": {},
   "outputs": [],
   "source": [
    "def get_top_items(type, category, n=3):\n",
    "    if type == 'movie':\n",
    "        data = movie_data[movie_data['GENRES'].str.contains(category)].sort_values(by='IMDB_RATING', ascending=False).head(3)\n",
    "        data = data.rename(columns={'TITLE': 'name'})\n",
    "        data = data.rename(columns={'PLOT': 'description'})\n",
    "        return data[['TITLE', 'PLOT']]\n",
    "    elif type == 'retail':\n",
    "        data = retail_data[retail_data['breadcrumbs'].str.contains(category)].sort_values(by='average_rating', ascending=False).head(3)\n",
    "        return data[['name', 'description']]\n",
    "    elif type == 'travel':\n",
    "        data = travel_data[travel_data['DST_CITY'].str.contains(category)].sort_values(by='NUMBER_OF_SEARCH_BY_USER', ascending=False).head(3)\n",
    "        data['description'] = data.apply(lambda row: 'Travel from ' + str(row['SRC_CITY']) + ' on ' + str(row['AIRLINE'] + ' for a ' + str(row['DURATION_DAYS']) + ' trip in ' + str(row['MONTH']) + ' - $' + str(row['DYNAMIC_PRICE'])), axis=1)\n",
    "        data = data.rename(columns={'DST_CITY': 'name'})\n",
    "        return data[['name', 'description']]"
   ]
  },
  {
   "cell_type": "code",
   "execution_count": null,
   "metadata": {},
   "outputs": [],
   "source": [
    "get_top_items(\"travel\", \"Hong Kong\")"
   ]
  },
  {
   "cell_type": "code",
   "execution_count": null,
   "metadata": {},
   "outputs": [],
   "source": [
    "# download the s3 file from \"s3://personalize-solution-staging-us-east-1/personalize-immersionday-travel/travel_items.csv\"\n",
    "import boto3\n",
    "import pandas as pd\n",
    "s3 = boto3.client('s3')\n",
    "def download_s3_file(bucket, key, filename):\n",
    "    s3.download_file(bucket, key, filename)\n",
    "    df = pd.read_csv(filename)\n",
    "    return df\n",
    "df = download_s3_file('personalize-solution-staging-us-east-1', 'personalize-immersionday-travel/travel_items.csv', 'travel_items.csv')\n",
    "print(df.head())"
   ]
  },
  {
   "cell_type": "code",
   "execution_count": null,
   "metadata": {},
   "outputs": [],
   "source": [
    "get_top_items(\"movie\",\"Action\")"
   ]
  },
  {
   "cell_type": "code",
   "execution_count": null,
   "metadata": {},
   "outputs": [],
   "source": [
    "items = [\"Drama\", \"Action\", \"Adventure\", \"Comedy\", \"Sci-Fi\",\n",
    "        'Kids Accessories', 'Kids Clothing', 'Kids Shoes', 'Men Accessories', 'Men Clothing',\n",
    "        'Men Shoes', 'Running Accessories', 'Running Shoes', 'Soccer Accessories', 'Soccer Shoes',\n",
    "        'Women Accessories', 'Women Clothing', 'Women Shoes', \n",
    "        'Beijing', 'Guangzhou','Hong Kong','London', 'New York', 'Seoul', 'Shanghai', 'Sydney', 'Tokyo']\n",
    "\n",
    "[{\"domain\": \"travel\", \"category\": item} for item in items]"
   ]
  },
  {
   "cell_type": "code",
   "execution_count": null,
   "metadata": {},
   "outputs": [],
   "source": [
    "[{'domain': 'movie', 'category': 'Drama'},\n",
    " {'domain': 'movie', 'category': 'Action'},\n",
    " {'domain': 'movie', 'category': 'Adventure'},\n",
    " {'domain': 'movie', 'category': 'Comedy'},\n",
    " {'domain': 'movie', 'category': 'Sci-Fi'},\n",
    " {'domain': 'retail', 'category': 'Kids Accessories'},\n",
    " {'domain': 'retail', 'category': 'Kids Clothing'},\n",
    " {'domain': 'retail', 'category': 'Kids Shoes'},\n",
    " {'domain': 'retail', 'category': 'Men Accessories'},\n",
    " {'domain': 'retail', 'category': 'Men Clothing'},\n",
    " {'domain': 'retail', 'category': 'Men Shoes'},\n",
    " {'domain': 'retail', 'category': 'Running Accessories'},\n",
    " {'domain': 'retail', 'category': 'Running Shoes'},\n",
    " {'domain': 'retail', 'category': 'Soccer Accessories'},\n",
    " {'domain': 'retail', 'category': 'Soccer Shoes'},\n",
    " {'domain': 'retail', 'category': 'Women Accessories'},\n",
    " {'domain': 'retail', 'category': 'Women Clothing'},\n",
    " {'domain': 'retail', 'category': 'Women Shoes'},\n",
    " {'domain': 'travel', 'category': 'Beijing'},\n",
    " {'domain': 'travel', 'category': 'Guangzhou'},\n",
    " {'domain': 'travel', 'category': 'Hong Kong'},\n",
    " {'domain': 'travel', 'category': 'London'},\n",
    " {'domain': 'travel', 'category': 'New York'},\n",
    " {'domain': 'travel', 'category': 'Seoul'},\n",
    " {'domain': 'travel', 'category': 'Shanghai'},\n",
    " {'domain': 'travel', 'category': 'Sydney'},\n",
    " {'domain': 'travel', 'category': 'Tokyo'}]"
   ]
  },
  {
   "cell_type": "code",
   "execution_count": null,
   "metadata": {},
   "outputs": [],
   "source": [
    "import os\n",
    "from PIL import Image\n",
    "original_dir = '../../assets/stock_originals'\n",
    "thumbs_dir = '../../assets/stock_thumbs'\n",
    "size = 128, 128  # Desired thumbnail size\n",
    "\n",
    "# Loop through all JPEG files in the current directory\n",
    "for infile in os.listdir(original_dir):\n",
    "    print(infile)\n",
    "    if infile.endswith(\".jpeg\"):\n",
    "        im = Image.open(os.path.join(original_dir,infile))\n",
    "        im.thumbnail(size)\n",
    "        im.save(f\"{thumbs_dir}/thumbnail_{os.path.splitext(infile)[0]}.jpeg\", \"JPEG\")"
   ]
  },
  {
   "cell_type": "code",
   "execution_count": null,
   "metadata": {},
   "outputs": [],
   "source": [
    "%pip install sagemaker"
   ]
  },
  {
   "cell_type": "code",
   "execution_count": null,
   "metadata": {},
   "outputs": [],
   "source": [
    "%pip list\n"
   ]
  },
  {
   "cell_type": "code",
   "execution_count": null,
   "metadata": {},
   "outputs": [],
   "source": [
    "import sagemaker\n",
    "import boto3\n",
    "from sagemaker.huggingface import HuggingFaceModel\n",
    "boto_session = boto3.Session(profile_name='amtdemo-cli')\n",
    "sagemaker_session = sagemaker.Session(boto_session=boto_session)\n",
    "try:\n",
    "\trole = sagemaker.get_execution_role()\n",
    "except ValueError:\n",
    "\tiam = boto_session.client('iam')\n",
    "\trole = iam.get_role(RoleName='sagemaker_execution_role')['Role']['Arn']\n",
    "\tprint(role)\n",
    "\n",
    "# Hub Model configuration. https://huggingface.co/models\n",
    "hub = {\n",
    "\t'HF_MODEL_ID':'Salesforce/blip2-flan-t5-xl',\n",
    "\t'HF_TASK':'image-to-text'\n",
    "}\n",
    "\n",
    "# create Hugging Face Model Class\n",
    "huggingface_model = HuggingFaceModel(\n",
    "\ttransformers_version='4.37.0',\n",
    "\tpytorch_version='2.1.0',\n",
    "\tpy_version='py310',\n",
    "\tenv=hub,\n",
    "\trole=role,\n",
    "\tsagemaker_session=sagemaker_session\n",
    ")\n",
    "end_point_name = 'blip2-flan-t5-xl-test'\n",
    "# deploy model to SageMaker Inference\n",
    "predictor = huggingface_model.deploy(\n",
    "\tinitial_instance_count=1, # number of instances\n",
    "\tinstance_type='ml.g5.2xlarge', # ec2 instance type\n",
    "\tendpoint_name=end_point_name\n",
    ")\n",
    "print(predictor.endpoint_name)"
   ]
  },
  {
   "cell_type": "code",
   "execution_count": null,
   "metadata": {},
   "outputs": [],
   "source": [
    "# setup clients\n",
    "import sagemaker\n",
    "import boto3\n",
    "boto_session = boto3.Session(profile_name='amtdemo-cli')\n",
    "sagemaker_session = sagemaker.Session(boto_session=boto_session)\n",
    "\n",
    "# Create a SageMaker runtime client\n",
    "runtime = boto_session.client('sagemaker-runtime')\n",
    "# endpoint_name = predictor.endpoint_name\n",
    "endpoint_name = \"huggingface-pytorch-inference-2024-08-21-14-51-46-820\""
   ]
  },
  {
   "cell_type": "code",
   "execution_count": null,
   "metadata": {},
   "outputs": [],
   "source": [
    "# get the image data ready\n",
    "from PIL import Image\n",
    "import base64\n",
    "import io\n",
    "original_dir = '../../assets/stock_originals'\n",
    "# Open the image\n",
    "fname = \"AdobeStock_26803377.jpeg\"\n",
    "image = Image.open(f\"{original_dir}/{fname}\")\n",
    "rimage = image.resize((1024, 640))\n",
    "# Convert the image to a base64 string\n",
    "buffered = io.BytesIO()\n",
    "rimage.save(f\"{original_dir}/Resized_{fname}\", format=\"JPEG\")\n",
    "image.save(buffered, format=\"JPEG\")\n",
    "byte_array = buffered.getvalue()\n",
    "img_str = base64.b64encode(byte_array).decode(\"utf-8\")\n"
   ]
  },
  {
   "cell_type": "code",
   "execution_count": null,
   "metadata": {},
   "outputs": [],
   "source": [
    "# Send the request to the BLIP-2 model\n",
    "import json\n",
    "prompt = \"\"\"Question: Describe the image in detailed 20 words? Answer:\"\"\"\n",
    "# inputs = {\"inputs\": {\"image\":img_str, \"prompt\":prompt}}\n",
    "inputs = {\"inputs\": img_str, \"parameters\": {\"prompt\":prompt}}\n",
    "# print(json.dumps(inputs, indent=2))\n",
    "response = runtime.invoke_endpoint(\n",
    "    EndpointName=endpoint_name,\n",
    "    # EndpointName=\"blip-2-test\",\n",
    "    ContentType=\"application/json\",\n",
    "    # Body=bytearray(json.dumps({\"inputs\": img_str, \"text\":prompt}), \"utf-8\"),\n",
    "    Body=bytearray(json.dumps(inputs), \"utf-8\")\n",
    ")\n",
    "\n",
    "# Decode the response\n",
    "result = json.loads(response[\"Body\"].read().decode(\"utf-8\"))\n",
    "# Print the generated caption\n",
    "print(result[0][\"generated_text\"])"
   ]
  },
  {
   "cell_type": "code",
   "execution_count": null,
   "metadata": {},
   "outputs": [],
   "source": [
    "neg_prompt = \"worst quality, low quality, normal quality, lowres, low details, over saturated, under saturated, overexposed, underexposed, grayscale, b&w, bad photo, bad photography, bad art:1.4), (watermark, signature, text font, username, error, logo, words, letters, digits, autograph, trademark, name:1.2), (blur, blurry, grainy),ugly, asymmetrical, mutated malformed, mutilated, poorly lit, bad shadow, cropped, out of frame, cut off, out of focus, glitch\""
   ]
  },
  {
   "cell_type": "code",
   "execution_count": null,
   "metadata": {},
   "outputs": [],
   "source": [
    "def get_supported_img_size(inp_width, aspect_ratio):\n",
    "    aspect_ratios = (1,0.67,1.5,0.6,1.67,0.78,1.28,0.54,1.83,0.45,2.2,1.83)\n",
    "    sizes = [\n",
    "        (1024,1),\n",
    "        (768,1),\n",
    "        (512,1),\n",
    "        (768,0.67),\n",
    "        (384,0.67),\n",
    "        (1152,1.5),\n",
    "        (576,1.5),\n",
    "        (768,0.6),\n",
    "        (384,0.6),\n",
    "        (1280,1.67),\n",
    "        (640,1.67),\n",
    "        (896,0.78),\n",
    "        (448,0.78),\n",
    "        (1152,1.28),\n",
    "        (576,1.28),\n",
    "        (768,0.54),\n",
    "        (384,0.54),\n",
    "        (1408,1.83),\n",
    "        (704,1.83),\n",
    "        (640,0.45),\n",
    "        (320,0.45),\n",
    "        (1408,2.2),\n",
    "        (704,2.2),\n",
    "        (1152,1.8),\n",
    "        (1173,1.83),\n",
    "    ]\n",
    "    # for the given aspect ratio find the closest aspect ratio aspect_ratios\n",
    "    closest_aspect_ratio = min(aspect_ratios, key=lambda x: abs(x - aspect_ratio))\n",
    "    # for the closest_aspect_ratio and input_width find the best tuple\n",
    "    closest_match = min(sizes, key=lambda x: abs(x[0] - inp_width) + abs(x[1] - closest_aspect_ratio))\n",
    "    return closest_match[0], closest_match[1]"
   ]
  },
  {
   "cell_type": "code",
   "execution_count": null,
   "metadata": {},
   "outputs": [],
   "source": [
    "get_supported_img_size(1173704, 3)"
   ]
  },
  {
   "cell_type": "code",
   "execution_count": null,
   "metadata": {},
   "outputs": [],
   "source": [
    "import boto3\n",
    "from botocore.exceptions import ClientError\n",
    "import logging\n",
    "logger = logging.getLogger(__name__)\n",
    "\n",
    "profile=\"genai\"\n",
    "\n",
    "def get_available_models(profile):\n",
    "    session = boto3.Session(profile_name=profile)\n",
    "    client = session.client('bedrock')\n",
    "    try:\n",
    "        models = client.list_foundation_models()\n",
    "    except ClientError as e:\n",
    "        logger.error(e.response)\n",
    "        return None\n",
    "    return models[\"modelSummaries\"]\n",
    "\n",
    "def get_filtered_models(profile, output_mode='IMAGE'):\n",
    "    models = get_available_models(profile)\n",
    "    filtered_models = []\n",
    "    for model in models:\n",
    "        if output_mode in model[\"outputModalities\"]:\n",
    "            filtered_models.append(model[\"modelId\"])\n",
    "    return filtered_models\n",
    "\n",
    "get_filtered_models(profile)"
   ]
  }
 ],
 "metadata": {
  "kernelspec": {
   "display_name": ".venv",
   "language": "python",
   "name": "python3"
  },
  "language_info": {
   "codemirror_mode": {
    "name": "ipython",
    "version": 3
   },
   "file_extension": ".py",
   "mimetype": "text/x-python",
   "name": "python",
   "nbconvert_exporter": "python",
   "pygments_lexer": "ipython3",
   "version": "3.12.5"
  }
 },
 "nbformat": 4,
 "nbformat_minor": 2
}
